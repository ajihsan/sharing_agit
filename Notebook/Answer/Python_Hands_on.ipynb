{
  "nbformat": 4,
  "nbformat_minor": 0,
  "metadata": {
    "colab": {
      "name": "Python Hands-on.ipynb",
      "provenance": [],
      "collapsed_sections": []
    },
    "kernelspec": {
      "name": "python2",
      "display_name": "Python 2"
    }
  },
  "cells": [
    {
      "cell_type": "markdown",
      "metadata": {
        "id": "Meeowm7x8zDi",
        "colab_type": "text"
      },
      "source": [
        "Variable"
      ]
    },
    {
      "cell_type": "code",
      "metadata": {
        "id": "r94jy6IL7lXx",
        "colab_type": "code",
        "outputId": "5df69d37-b443-47f4-ad17-3cc36237f8d9",
        "colab": {
          "base_uri": "https://localhost:8080/",
          "height": 34
        }
      },
      "source": [
        "val_string = \"Ini text\"\n",
        "print(val_string)"
      ],
      "execution_count": 0,
      "outputs": [
        {
          "output_type": "stream",
          "text": [
            "Ini text\n"
          ],
          "name": "stdout"
        }
      ]
    },
    {
      "cell_type": "code",
      "metadata": {
        "id": "LWkPbLpa7qfm",
        "colab_type": "code",
        "outputId": "60db8f51-99ff-4c5f-e230-339d017cc06b",
        "colab": {
          "base_uri": "https://localhost:8080/",
          "height": 34
        }
      },
      "source": [
        "val_integer = 2\n",
        "print(val_integer)"
      ],
      "execution_count": 0,
      "outputs": [
        {
          "output_type": "stream",
          "text": [
            "2\n"
          ],
          "name": "stdout"
        }
      ]
    },
    {
      "cell_type": "code",
      "metadata": {
        "id": "55rEm3ew7qtV",
        "colab_type": "code",
        "outputId": "e73eeb32-438c-45d0-fda4-bba3b7bfed04",
        "colab": {
          "base_uri": "https://localhost:8080/",
          "height": 34
        }
      },
      "source": [
        "val_float_1 = 2.34\n",
        "val_float_2 = float(val_integer)\n",
        "print(val_float_1,val_float_2)"
      ],
      "execution_count": 0,
      "outputs": [
        {
          "output_type": "stream",
          "text": [
            "(2.34, 2.0)\n"
          ],
          "name": "stdout"
        }
      ]
    },
    {
      "cell_type": "code",
      "metadata": {
        "id": "kSsHAtZjBHL6",
        "colab_type": "code",
        "outputId": "1015148a-89a4-40bf-bec0-4f3e22fc2da4",
        "colab": {
          "base_uri": "https://localhost:8080/",
          "height": 34
        }
      },
      "source": [
        "val_integer_2 = int(val_float_1)\n",
        "print(val_integer_2)"
      ],
      "execution_count": 0,
      "outputs": [
        {
          "output_type": "stream",
          "text": [
            "2\n"
          ],
          "name": "stdout"
        }
      ]
    },
    {
      "cell_type": "markdown",
      "metadata": {
        "id": "DDsF8pJJB49s",
        "colab_type": "text"
      },
      "source": [
        "List"
      ]
    },
    {
      "cell_type": "code",
      "metadata": {
        "id": "ggQJr33HB5zi",
        "colab_type": "code",
        "outputId": "89036084-4e8d-4604-d534-49dfaaf50f88",
        "colab": {
          "base_uri": "https://localhost:8080/",
          "height": 68
        }
      },
      "source": [
        "mylist = []\n",
        "mylist.append(1)\n",
        "mylist.append(2)\n",
        "mylist.append(3)\n",
        "print(mylist[0]) # prints 1\n",
        "print(mylist[1]) # prints 2\n",
        "print(mylist[2]) # prints 3"
      ],
      "execution_count": 0,
      "outputs": [
        {
          "output_type": "stream",
          "text": [
            "1\n",
            "2\n",
            "3\n"
          ],
          "name": "stdout"
        }
      ]
    },
    {
      "cell_type": "code",
      "metadata": {
        "id": "vGFLAAWDB7Cs",
        "colab_type": "code",
        "outputId": "26fc2786-53c1-4cb7-ca00-17e5e4237993",
        "colab": {
          "base_uri": "https://localhost:8080/",
          "height": 34
        }
      },
      "source": [
        "mylist"
      ],
      "execution_count": 0,
      "outputs": [
        {
          "output_type": "execute_result",
          "data": {
            "text/plain": [
              "[1, 2, 3]"
            ]
          },
          "metadata": {
            "tags": []
          },
          "execution_count": 17
        }
      ]
    },
    {
      "cell_type": "markdown",
      "metadata": {
        "id": "c8R_YnLacxmg",
        "colab_type": "text"
      },
      "source": [
        "Dictionary"
      ]
    },
    {
      "cell_type": "code",
      "metadata": {
        "id": "Q7ygXWLoc0E4",
        "colab_type": "code",
        "outputId": "0747c3a1-e357-4b62-f4ab-8bc6ebf6b6e6",
        "colab": {
          "base_uri": "https://localhost:8080/",
          "height": 34
        }
      },
      "source": [
        "phonebook = {}\n",
        "phonebook[\"John\"] = 938477566\n",
        "phonebook[\"Jack\"] = 938377264\n",
        "phonebook[\"Jill\"] = 947662781\n",
        "print(phonebook)"
      ],
      "execution_count": 0,
      "outputs": [
        {
          "output_type": "stream",
          "text": [
            "{'Jill': 947662781, 'John': 938477566, 'Jack': 938377264}\n"
          ],
          "name": "stdout"
        }
      ]
    },
    {
      "cell_type": "code",
      "metadata": {
        "id": "FF0HcDPIc07R",
        "colab_type": "code",
        "outputId": "40b5f670-060f-4714-dd3f-24e24b8d52a5",
        "colab": {
          "base_uri": "https://localhost:8080/",
          "height": 34
        }
      },
      "source": [
        "phonebook = {\n",
        "    \"John\" : 938477566,\n",
        "    \"Jack\" : 938377264,\n",
        "    \"Jill\" : 947662781\n",
        "}\n",
        "print(phonebook)"
      ],
      "execution_count": 0,
      "outputs": [
        {
          "output_type": "stream",
          "text": [
            "{'Jill': 947662781, 'John': 938477566, 'Jack': 938377264}\n"
          ],
          "name": "stdout"
        }
      ]
    },
    {
      "cell_type": "code",
      "metadata": {
        "id": "u-PNF89ac9qI",
        "colab_type": "code",
        "outputId": "571bfb68-eabb-49d4-c09e-613feecda1a7",
        "colab": {
          "base_uri": "https://localhost:8080/",
          "height": 34
        }
      },
      "source": [
        "phonebook[\"John\"]"
      ],
      "execution_count": 0,
      "outputs": [
        {
          "output_type": "execute_result",
          "data": {
            "text/plain": [
              "938477566"
            ]
          },
          "metadata": {
            "tags": []
          },
          "execution_count": 50
        }
      ]
    },
    {
      "cell_type": "markdown",
      "metadata": {
        "id": "BexWU6Sm-B2R",
        "colab_type": "text"
      },
      "source": [
        "Operator"
      ]
    },
    {
      "cell_type": "code",
      "metadata": {
        "id": "gRdsL13SCy8L",
        "colab_type": "code",
        "colab": {}
      },
      "source": [
        "number = 1 + 2 * 3 / 4.0\n",
        "print(number)"
      ],
      "execution_count": 0,
      "outputs": []
    },
    {
      "cell_type": "code",
      "metadata": {
        "id": "LkVviz1K8v7h",
        "colab_type": "code",
        "colab": {}
      },
      "source": [
        "remainder = 11 % 3\n",
        "print(remainder)"
      ],
      "execution_count": 0,
      "outputs": []
    },
    {
      "cell_type": "code",
      "metadata": {
        "id": "yMQ_bi92Cqxu",
        "colab_type": "code",
        "colab": {}
      },
      "source": [
        "squared = 7 ** 2\n",
        "cubed = 2 ** 3\n",
        "print(squared)\n",
        "print(cubed)"
      ],
      "execution_count": 0,
      "outputs": []
    },
    {
      "cell_type": "code",
      "metadata": {
        "id": "CUxtRqL_Cxrx",
        "colab_type": "code",
        "colab": {}
      },
      "source": [
        "helloworld = \"hello\" + \" \" + \"world\"\n",
        "print(helloworld)"
      ],
      "execution_count": 0,
      "outputs": []
    },
    {
      "cell_type": "code",
      "metadata": {
        "id": "oVnekUWhExNM",
        "colab_type": "code",
        "outputId": "ebbbcb1c-1524-488c-cba1-fac8a17a30ff",
        "colab": {
          "base_uri": "https://localhost:8080/",
          "height": 34
        }
      },
      "source": [
        "even_numbers = [2,4,6,8]\n",
        "odd_numbers = [1,3,5,7]\n",
        "all_numbers = odd_numbers + even_numbers\n",
        "print(all_numbers)"
      ],
      "execution_count": 0,
      "outputs": [
        {
          "output_type": "stream",
          "text": [
            "[1, 3, 5, 7, 2, 4, 6, 8]\n"
          ],
          "name": "stdout"
        }
      ]
    },
    {
      "cell_type": "markdown",
      "metadata": {
        "id": "56tFzg6bGb-A",
        "colab_type": "text"
      },
      "source": [
        "String Format"
      ]
    },
    {
      "cell_type": "code",
      "metadata": {
        "id": "bn3WkcKcEx5-",
        "colab_type": "code",
        "outputId": "0db55c04-84fd-4127-c0a7-73675c6558d5",
        "colab": {
          "base_uri": "https://localhost:8080/",
          "height": 34
        }
      },
      "source": [
        "name = \"John Doe\"\n",
        "\n",
        "print(\"Hello, my name is {}. I have $50.5 in my bank\".format(name))"
      ],
      "execution_count": 0,
      "outputs": [
        {
          "output_type": "stream",
          "text": [
            "Hello, my name is John Doe. I have $50.5 in my bank\n"
          ],
          "name": "stdout"
        }
      ]
    },
    {
      "cell_type": "markdown",
      "metadata": {
        "id": "1ROTVRIiJj-9",
        "colab_type": "text"
      },
      "source": [
        "Exercise 1 (Answer)"
      ]
    },
    {
      "cell_type": "code",
      "metadata": {
        "id": "Xt1ADMOFJmCO",
        "colab_type": "code",
        "outputId": "577018ef-da5e-462e-9336-4c3782040134",
        "colab": {
          "base_uri": "https://localhost:8080/",
          "height": 34
        }
      },
      "source": [
        "name = [\"John\",\"Doe\",101]\n",
        "hello = \"Hello\"\n",
        "\n",
        "print(\"{}, my name is {} {}. I have ${} in my bank\".format(hello, name[0], name[1], float(name[2])/2))"
      ],
      "execution_count": 0,
      "outputs": [
        {
          "output_type": "stream",
          "text": [
            "Hello, my name is John Doe. I have $50.5 in my bank\n"
          ],
          "name": "stdout"
        }
      ]
    },
    {
      "cell_type": "markdown",
      "metadata": {
        "id": "COow_XF7NUom",
        "colab_type": "text"
      },
      "source": [
        "Loop"
      ]
    },
    {
      "cell_type": "code",
      "metadata": {
        "id": "L-gH5bupNV80",
        "colab_type": "code",
        "colab": {}
      },
      "source": [
        "primes = [2, 3, 5, 7]\n",
        "for prime in primes:\n",
        "    print(prime)"
      ],
      "execution_count": 0,
      "outputs": []
    },
    {
      "cell_type": "code",
      "metadata": {
        "id": "fjwQzykGNWxg",
        "colab_type": "code",
        "colab": {}
      },
      "source": [
        "for x in range(5):\n",
        "    print(x)\n",
        "\n",
        "# Prints out 3,4,5\n",
        "for x in range(3, 6):\n",
        "    print(x)"
      ],
      "execution_count": 0,
      "outputs": []
    },
    {
      "cell_type": "code",
      "metadata": {
        "id": "6sLAlSe1NfHP",
        "colab_type": "code",
        "colab": {}
      },
      "source": [
        "count = 0\n",
        "while count < 5:\n",
        "    print(count)\n",
        "    count += 1"
      ],
      "execution_count": 0,
      "outputs": []
    },
    {
      "cell_type": "markdown",
      "metadata": {
        "id": "AOehcamcN032",
        "colab_type": "text"
      },
      "source": [
        "Condition"
      ]
    },
    {
      "cell_type": "code",
      "metadata": {
        "id": "dF94J6L6N2ic",
        "colab_type": "code",
        "colab": {}
      },
      "source": [
        "name = \"John\"\n",
        "age = 23\n",
        "if name == \"John\" and age == 23:\n",
        "    print(\"Your name is John, and you are also 23 years old.\")\n",
        "\n",
        "if name == \"John\" or name == \"Rick\":\n",
        "    print(\"Your name is either John or Rick.\")"
      ],
      "execution_count": 0,
      "outputs": []
    },
    {
      "cell_type": "code",
      "metadata": {
        "id": "R5wCSRpdOLVP",
        "colab_type": "code",
        "colab": {}
      },
      "source": [
        "name = \"John\"\n",
        "if name in [\"John\", \"Rick\"]:\n",
        "    print(\"Your name is either John or Rick.\")"
      ],
      "execution_count": 0,
      "outputs": []
    },
    {
      "cell_type": "code",
      "metadata": {
        "id": "Yfz6fkXMOLez",
        "colab_type": "code",
        "colab": {}
      },
      "source": [
        "x = 2\n",
        "if x == 2:\n",
        "    print(\"x equals two!\")\n",
        "else:\n",
        "    print(\"x does not equal to two.\")"
      ],
      "execution_count": 0,
      "outputs": []
    },
    {
      "cell_type": "markdown",
      "metadata": {
        "id": "TElNAW8uPtOJ",
        "colab_type": "text"
      },
      "source": [
        "Exercise 2 (Answer)"
      ]
    },
    {
      "cell_type": "code",
      "metadata": {
        "id": "X4vBVNtOORIe",
        "colab_type": "code",
        "outputId": "2a6a637a-da11-4287-878d-573419903287",
        "colab": {
          "base_uri": "https://localhost:8080/",
          "height": 119
        }
      },
      "source": [
        "# change this code\n",
        "number = 10\n",
        "second_number = 10\n",
        "first_array = []\n",
        "second_array = [1,2,3,4]\n",
        "\n",
        "number = -18\n",
        "second_number = 0\n",
        "first_array = [1,2,3]\n",
        "second_array = [1,2]\n",
        "\n",
        "if number < 15 and number % 6 == 0:\n",
        "    print(\"1\")\n",
        "\n",
        "if first_array:\n",
        "    print(\"2\")\n",
        "\n",
        "if len(second_array) == 2:\n",
        "    print(\"3\")\n",
        "\n",
        "if len(first_array) + len(second_array) == 5:\n",
        "    print(\"4\")\n",
        "\n",
        "if first_array and first_array[0] == 1:\n",
        "    print(\"5\")\n",
        "\n",
        "if not second_number and number**2 > 200:\n",
        "    print(\"6\")\n",
        "    "
      ],
      "execution_count": 0,
      "outputs": [
        {
          "output_type": "stream",
          "text": [
            "1\n",
            "2\n",
            "3\n",
            "4\n",
            "5\n",
            "6\n"
          ],
          "name": "stdout"
        }
      ]
    },
    {
      "cell_type": "markdown",
      "metadata": {
        "id": "2-l3AAP6QOWZ",
        "colab_type": "text"
      },
      "source": [
        "Exercise 3 (Answer)"
      ]
    },
    {
      "cell_type": "code",
      "metadata": {
        "id": "62-dukhMQQWP",
        "colab_type": "code",
        "colab": {}
      },
      "source": [
        "\"\"\"\n",
        "Dari 2 array, buat array yang berisi nama yang muncul di salah satu atau kedua array-nya. Hasil array tidak boleh memiliki duplikat.\n",
        "Hint: gunakan loop dan condition.\n",
        "\"\"\"\n",
        "\n",
        "names1 = [\"Ava\", \"Emma\", \"Olivia\"]\n",
        "names2 = [\"Olivia\", \"Sophia\", \"Emma\"]\n",
        "names_result = []\n",
        "\n",
        "names = names1+names2\n",
        "for i in names:\n",
        "    if i not in names_result:\n",
        "        names_result.append(i)\n",
        "\n",
        "print(names_result)"
      ],
      "execution_count": 0,
      "outputs": []
    },
    {
      "cell_type": "markdown",
      "metadata": {
        "id": "NjwTKjRWfc-n",
        "colab_type": "text"
      },
      "source": [
        "Method"
      ]
    },
    {
      "cell_type": "code",
      "metadata": {
        "id": "bC_gqv3jfeJd",
        "colab_type": "code",
        "outputId": "c3aecf3e-772e-4883-8698-f5eaab25c922",
        "colab": {
          "base_uri": "https://localhost:8080/",
          "height": 34
        }
      },
      "source": [
        "names1 = [\"Ava\", \"Emma\", \"Olivia\"]\n",
        "names2 = [\"Olivia\", \"Sophia\", \"Emma\"]\n",
        "\n",
        "def joinDistinct(list1, list2):\n",
        "  result = []\n",
        "  join = list1+list2\n",
        "  for i in join:\n",
        "      if i not in result:\n",
        "          result.append(i)\n",
        "  \n",
        "  return result\n",
        "\n",
        "names_result = joinDistinct(names1, names2)\n",
        "print(names_result)"
      ],
      "execution_count": 0,
      "outputs": [
        {
          "output_type": "stream",
          "text": [
            "['Ava', 'Emma', 'Olivia', 'Sophia']\n"
          ],
          "name": "stdout"
        }
      ]
    },
    {
      "cell_type": "code",
      "metadata": {
        "id": "EO6YetofhWqY",
        "colab_type": "code",
        "outputId": "f74109ca-bd03-4cdb-f899-f6db51b7d71b",
        "colab": {
          "base_uri": "https://localhost:8080/",
          "height": 34
        }
      },
      "source": [
        "def checkNone(value1 = None, value2 = None):\n",
        "  if value1:\n",
        "    if value2:\n",
        "      print(\"There's 2 value: ({},{})\".format(value1,value2))\n",
        "    else:\n",
        "      print(\"There's 1 value: ({})\".format(value1))\n",
        "  elif value2:\n",
        "    print(\"There's 1 value: ({})\".format(value2))\n",
        "  else:\n",
        "    print(\"There's no value\")\n",
        "\n",
        "\n",
        "checkNone(value1 = 2, value2 = 3)"
      ],
      "execution_count": 0,
      "outputs": [
        {
          "output_type": "stream",
          "text": [
            "There's 2 value: (2,3)\n"
          ],
          "name": "stdout"
        }
      ]
    },
    {
      "cell_type": "code",
      "metadata": {
        "id": "JnvxJ6nTkHhf",
        "colab_type": "code",
        "outputId": "6174b785-56ce-49d1-dbfc-4592da96512a",
        "colab": {
          "base_uri": "https://localhost:8080/",
          "height": 85
        }
      },
      "source": [
        "number1 = [1,None,3]\n",
        "number2 = [None,None,3]\n",
        "\n",
        "for x,y in zip(number1,number2):\n",
        "  checkNone(value1 = x, value2 = y)\n",
        "\n",
        "print(\"Distinct value =\"), joinDistinct(number1,number2)"
      ],
      "execution_count": 0,
      "outputs": [
        {
          "output_type": "stream",
          "text": [
            "There's 1 value: (1)\n",
            "There's no value\n",
            "There's 2 value: (3,3)\n",
            "Distinct value = [1, None, 3]\n"
          ],
          "name": "stdout"
        }
      ]
    }
  ]
}