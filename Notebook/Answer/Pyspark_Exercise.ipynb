{
  "nbformat": 4,
  "nbformat_minor": 0,
  "metadata": {
    "colab": {
      "name": "Pyspark Exercise.ipynb",
      "provenance": [],
      "collapsed_sections": []
    },
    "kernelspec": {
      "name": "python2",
      "display_name": "Python 2"
    }
  },
  "cells": [
    {
      "cell_type": "code",
      "metadata": {
        "id": "EuCfmAR1T6yS",
        "colab_type": "code",
        "colab": {}
      },
      "source": [
        "!apt-get install openjdk-8-jdk-headless -qq > /dev/null\n",
        "!wget -q https://www-us.apache.org/dist/spark/spark-2.4.4/spark-2.4.4-bin-hadoop2.7.tgz\n",
        "!tar xf spark-2.4.4-bin-hadoop2.7.tgz\n",
        "!pip install -q findspark"
      ],
      "execution_count": 0,
      "outputs": []
    },
    {
      "cell_type": "code",
      "metadata": {
        "id": "kfvczlaraXgY",
        "colab_type": "code",
        "colab": {}
      },
      "source": [
        "import os\n",
        "os.environ[\"JAVA_HOME\"] = \"/usr/lib/jvm/java-8-openjdk-amd64\"\n",
        "os.environ[\"SPARK_HOME\"] = \"/content/spark-2.4.4-bin-hadoop2.7\""
      ],
      "execution_count": 0,
      "outputs": []
    },
    {
      "cell_type": "code",
      "metadata": {
        "id": "e9l_4zzTaaGc",
        "colab_type": "code",
        "colab": {}
      },
      "source": [
        "import findspark\n",
        "findspark.init()\n",
        "from pyspark.sql import SparkSession\n",
        "from pyspark.sql.functions import *\n",
        "from pyspark.sql.types import *"
      ],
      "execution_count": 0,
      "outputs": []
    },
    {
      "cell_type": "code",
      "metadata": {
        "id": "EeQYNzuWUI5h",
        "colab_type": "code",
        "colab": {}
      },
      "source": [
        "from google.colab import files\n",
        "uploaded = files.upload()"
      ],
      "execution_count": 0,
      "outputs": []
    },
    {
      "cell_type": "code",
      "metadata": {
        "id": "DJwSNfMBUd3u",
        "colab_type": "code",
        "colab": {}
      },
      "source": [
        "spark = SparkSession \\\n",
        "    .builder \\\n",
        "    .master(\"local[*]\") \\\n",
        "    .appName(\"test\") \\\n",
        "    .getOrCreate()"
      ],
      "execution_count": 0,
      "outputs": []
    },
    {
      "cell_type": "code",
      "metadata": {
        "id": "0L0_oG8_Ue7I",
        "colab_type": "code",
        "colab": {}
      },
      "source": [
        "df_twit_h = spark.read.format(\"csv\").option(\"parserLib\", \"univocity\").option(\"header\", \"true\").option(\"delimiter\", \",\").load(\"HashtagTwitterPOS.csv\")\n",
        "df_twit_a = spark.read.format(\"csv\").option(\"parserLib\", \"univocity\").option(\"header\", \"true\").option(\"delimiter\", \",\").load(\"AkunTwitterPOS.csv\")"
      ],
      "execution_count": 0,
      "outputs": []
    },
    {
      "cell_type": "code",
      "metadata": {
        "id": "NtDuUgcIejVj",
        "colab_type": "code",
        "colab": {}
      },
      "source": [
        "df_ig = spark.read.format(\"json\").load(\"posindonesiaIG.json\")"
      ],
      "execution_count": 0,
      "outputs": []
    },
    {
      "cell_type": "code",
      "metadata": {
        "id": "GiJ1nHlVjsXn",
        "colab_type": "code",
        "colab": {}
      },
      "source": [
        "df_ig.printSchema()"
      ],
      "execution_count": 0,
      "outputs": []
    },
    {
      "cell_type": "code",
      "metadata": {
        "id": "uXOWGtfskKdi",
        "colab_type": "code",
        "colab": {}
      },
      "source": [
        "def FlatDF(schema, prefix=None):\n",
        "        fields = []\n",
        "        for field in schema.fields:\n",
        "            name = prefix + '.' + field.name if prefix else field.name\n",
        "            dtype = field.dataType\n",
        "            if isinstance(dtype, ArrayType):\n",
        "                dtype = dtype.elementType\n",
        "\n",
        "            if isinstance(dtype, StructType):\n",
        "                fields += FlatDF(dtype, prefix=name)\n",
        "            else:\n",
        "                fields.append(name)\n",
        "\n",
        "        return fields"
      ],
      "execution_count": 0,
      "outputs": []
    },
    {
      "cell_type": "code",
      "metadata": {
        "id": "uBv73j3il--U",
        "colab_type": "code",
        "colab": {}
      },
      "source": [
        "df_ig = df_ig.select(FlatDF(df_ig.schema))"
      ],
      "execution_count": 0,
      "outputs": []
    },
    {
      "cell_type": "code",
      "metadata": {
        "id": "JgmKRY4BmRuE",
        "colab_type": "code",
        "colab": {}
      },
      "source": [
        "df_ig.printSchema()\n",
        "df_ig.show()"
      ],
      "execution_count": 0,
      "outputs": []
    },
    {
      "cell_type": "code",
      "metadata": {
        "id": "HeKv4ND9msDP",
        "colab_type": "code",
        "colab": {}
      },
      "source": [
        "df_ig.select(col(\"author\")[1], col(\"comment\")[1]).show()"
      ],
      "execution_count": 0,
      "outputs": []
    },
    {
      "cell_type": "code",
      "metadata": {
        "id": "j2eQ9ETMrjzb",
        "colab_type": "code",
        "colab": {}
      },
      "source": [
        "df_ig_clean = df_ig.withColumn(\"tmp\", arrays_zip(\"author\", \"comment\")) \\\n",
        "          .withColumn(\"tmp\", explode(\"tmp\")) \\\n",
        "          .select(col(\"tmp.author\"), col(\"tmp.comment\"))"
      ],
      "execution_count": 0,
      "outputs": []
    },
    {
      "cell_type": "code",
      "metadata": {
        "id": "Gqhy-1PctCH4",
        "colab_type": "code",
        "colab": {}
      },
      "source": [
        "df_ig_clean = df_ig_clean.withColumn(\"source\", lit(\"Instagram\"))\n",
        "df_ig_clean.show()"
      ],
      "execution_count": 0,
      "outputs": []
    },
    {
      "cell_type": "code",
      "metadata": {
        "id": "-sfb5azntguc",
        "colab_type": "code",
        "colab": {}
      },
      "source": [
        "df_twit_a_clean = df_twit_a.select(\"username\", \"tweet\", lit(\"Twitter\").alias(\"source\"))\n",
        "df_twit_a_clean.show()"
      ],
      "execution_count": 0,
      "outputs": []
    },
    {
      "cell_type": "code",
      "metadata": {
        "id": "eQQU1Rz1u3Ag",
        "colab_type": "code",
        "colab": {}
      },
      "source": [
        "df_twit_h_clean = df_twit_h.select(\"username\", \"tweet\", lit(\"Twitter\").alias(\"source\"))\n",
        "df_twit_h_clean.show()"
      ],
      "execution_count": 0,
      "outputs": []
    },
    {
      "cell_type": "code",
      "metadata": {
        "id": "Wvvv-NaCvuEL",
        "colab_type": "code",
        "colab": {}
      },
      "source": [
        "df_ig_clean = df_ig_clean.select(col(\"author\").alias(\"username\"), col(\"comment\").alias(\"content\"), \"source\")\n",
        "df_twit_a_clean = df_twit_a_clean.select(\"username\", col(\"tweet\").alias(\"content\"), \"source\")\n",
        "df_twit_h_clean = df_twit_h_clean.select(\"username\", col(\"tweet\").alias(\"content\"), \"source\")"
      ],
      "execution_count": 0,
      "outputs": []
    },
    {
      "cell_type": "code",
      "metadata": {
        "id": "d7KY-2a-ymp5",
        "colab_type": "code",
        "colab": {}
      },
      "source": [
        "from functools import reduce\n",
        "from pyspark.sql import DataFrame\n",
        "\n",
        "dfs = [df_ig_clean, df_twit_a_clean, df_twit_h_clean]\n",
        "\n",
        "df_union = reduce(DataFrame.unionAll, dfs)"
      ],
      "execution_count": 0,
      "outputs": []
    },
    {
      "cell_type": "code",
      "metadata": {
        "id": "ZbHKKdaCT4lm",
        "colab_type": "code",
        "colab": {}
      },
      "source": [
        "for c, t in df_union.dtypes:\n",
        "        if t == \"string\":\n",
        "            df_union = df_union.withColumn(c, regexp_replace(c, \"[^\\w\\s]\", \"\"))"
      ],
      "execution_count": 0,
      "outputs": []
    },
    {
      "cell_type": "code",
      "metadata": {
        "id": "GWi8AlBQzOGn",
        "colab_type": "code",
        "colab": {}
      },
      "source": [
        "df_union.coalesce(1).write.format(\"csv\").mode(\"overwrite\").option(\"header\", \"true\").save('union_data.csv')\n"
      ],
      "execution_count": 0,
      "outputs": []
    },
    {
      "cell_type": "code",
      "metadata": {
        "id": "mn9h_A-60c3r",
        "colab_type": "code",
        "colab": {}
      },
      "source": [
        "df_union.show()"
      ],
      "execution_count": 0,
      "outputs": []
    }
  ]
}