{
  "nbformat": 4,
  "nbformat_minor": 0,
  "metadata": {
    "colab": {
      "name": "Python Hands-on (User).ipynb",
      "provenance": [],
      "collapsed_sections": []
    },
    "kernelspec": {
      "name": "python2",
      "display_name": "Python 2"
    }
  },
  "cells": [
    {
      "cell_type": "markdown",
      "metadata": {
        "id": "Meeowm7x8zDi",
        "colab_type": "text"
      },
      "source": [
        "Variable"
      ]
    },
    {
      "cell_type": "code",
      "metadata": {
        "id": "r94jy6IL7lXx",
        "colab_type": "code",
        "colab": {}
      },
      "source": [
        "val_string = \"Ini text\"\n",
        "print(val_string)"
      ],
      "execution_count": 0,
      "outputs": []
    },
    {
      "cell_type": "code",
      "metadata": {
        "id": "LWkPbLpa7qfm",
        "colab_type": "code",
        "colab": {}
      },
      "source": [
        "val_integer = 2\n",
        "print(val_integer)"
      ],
      "execution_count": 0,
      "outputs": []
    },
    {
      "cell_type": "code",
      "metadata": {
        "id": "55rEm3ew7qtV",
        "colab_type": "code",
        "colab": {}
      },
      "source": [
        "val_float_1 = 2.34\n",
        "val_float_2 = float(val_integer)\n",
        "print(val_float_1,val_float_2)"
      ],
      "execution_count": 0,
      "outputs": []
    },
    {
      "cell_type": "code",
      "metadata": {
        "id": "kSsHAtZjBHL6",
        "colab_type": "code",
        "colab": {}
      },
      "source": [
        "val_integer_2 = int(val_float_1)\n",
        "print(val_integer_2)"
      ],
      "execution_count": 0,
      "outputs": []
    },
    {
      "cell_type": "markdown",
      "metadata": {
        "id": "DDsF8pJJB49s",
        "colab_type": "text"
      },
      "source": [
        "List"
      ]
    },
    {
      "cell_type": "code",
      "metadata": {
        "id": "ggQJr33HB5zi",
        "colab_type": "code",
        "colab": {}
      },
      "source": [
        "mylist = []\n",
        "mylist.append(1)\n",
        "mylist.append(2)\n",
        "mylist.append(3)\n",
        "print(mylist[0]) # prints 1\n",
        "print(mylist[1]) # prints 2\n",
        "print(mylist[2]) # prints 3"
      ],
      "execution_count": 0,
      "outputs": []
    },
    {
      "cell_type": "code",
      "metadata": {
        "id": "vGFLAAWDB7Cs",
        "colab_type": "code",
        "colab": {}
      },
      "source": [
        "mylist"
      ],
      "execution_count": 0,
      "outputs": []
    },
    {
      "cell_type": "markdown",
      "metadata": {
        "id": "c8R_YnLacxmg",
        "colab_type": "text"
      },
      "source": [
        "Dictionary"
      ]
    },
    {
      "cell_type": "code",
      "metadata": {
        "id": "Q7ygXWLoc0E4",
        "colab_type": "code",
        "colab": {}
      },
      "source": [
        "phonebook = {}\n",
        "phonebook[\"John\"] = 938477566\n",
        "phonebook[\"Jack\"] = 938377264\n",
        "phonebook[\"Jill\"] = 947662781\n",
        "print(phonebook)"
      ],
      "execution_count": 0,
      "outputs": []
    },
    {
      "cell_type": "code",
      "metadata": {
        "id": "FF0HcDPIc07R",
        "colab_type": "code",
        "colab": {}
      },
      "source": [
        "phonebook = {\n",
        "    \"John\" : 938477566,\n",
        "    \"Jack\" : 938377264,\n",
        "    \"Jill\" : 947662781\n",
        "}\n",
        "print(phonebook)"
      ],
      "execution_count": 0,
      "outputs": []
    },
    {
      "cell_type": "code",
      "metadata": {
        "id": "u-PNF89ac9qI",
        "colab_type": "code",
        "colab": {}
      },
      "source": [
        "phonebook[\"John\"]"
      ],
      "execution_count": 0,
      "outputs": []
    },
    {
      "cell_type": "markdown",
      "metadata": {
        "id": "BexWU6Sm-B2R",
        "colab_type": "text"
      },
      "source": [
        "Operator"
      ]
    },
    {
      "cell_type": "code",
      "metadata": {
        "id": "gRdsL13SCy8L",
        "colab_type": "code",
        "colab": {}
      },
      "source": [
        "number = 1 + 2 * 3 / 4.0\n",
        "print(number)"
      ],
      "execution_count": 0,
      "outputs": []
    },
    {
      "cell_type": "code",
      "metadata": {
        "id": "LkVviz1K8v7h",
        "colab_type": "code",
        "colab": {}
      },
      "source": [
        "remainder = 11 % 3\n",
        "print(remainder)"
      ],
      "execution_count": 0,
      "outputs": []
    },
    {
      "cell_type": "code",
      "metadata": {
        "id": "yMQ_bi92Cqxu",
        "colab_type": "code",
        "colab": {}
      },
      "source": [
        "squared = 7 ** 2\n",
        "cubed = 2 ** 3\n",
        "print(squared)\n",
        "print(cubed)"
      ],
      "execution_count": 0,
      "outputs": []
    },
    {
      "cell_type": "code",
      "metadata": {
        "id": "CUxtRqL_Cxrx",
        "colab_type": "code",
        "colab": {}
      },
      "source": [
        "helloworld = \"hello\" + \" \" + \"world\"\n",
        "print(helloworld)"
      ],
      "execution_count": 0,
      "outputs": []
    },
    {
      "cell_type": "code",
      "metadata": {
        "id": "oVnekUWhExNM",
        "colab_type": "code",
        "colab": {}
      },
      "source": [
        "even_numbers = [2,4,6,8]\n",
        "odd_numbers = [1,3,5,7]\n",
        "all_numbers = odd_numbers + even_numbers\n",
        "print(all_numbers)"
      ],
      "execution_count": 0,
      "outputs": []
    },
    {
      "cell_type": "markdown",
      "metadata": {
        "id": "56tFzg6bGb-A",
        "colab_type": "text"
      },
      "source": [
        "String Format"
      ]
    },
    {
      "cell_type": "code",
      "metadata": {
        "id": "bn3WkcKcEx5-",
        "colab_type": "code",
        "colab": {}
      },
      "source": [
        "name = \"John Doe\"\n",
        "\n",
        "print(\"Hello, my name is {}. I have $50.5 in my bank\".format(name))"
      ],
      "execution_count": 0,
      "outputs": []
    },
    {
      "cell_type": "markdown",
      "metadata": {
        "id": "1ROTVRIiJj-9",
        "colab_type": "text"
      },
      "source": [
        "Exercise 1 (Answer)"
      ]
    },
    {
      "cell_type": "code",
      "metadata": {
        "id": "Xt1ADMOFJmCO",
        "colab_type": "code",
        "colab": {}
      },
      "source": [
        "\"\"\"\n",
        "Gunakan variable dibawah untuk menghasilkan output print:\n",
        "'Hello, my name is John Doe. I have $50.5 in my bank'\n",
        "\"\"\"\n",
        "\n",
        "name = [\"John\",\"Doe\",101]\n",
        "hello = \"Hello\"\n"
      ],
      "execution_count": 0,
      "outputs": []
    },
    {
      "cell_type": "markdown",
      "metadata": {
        "id": "COow_XF7NUom",
        "colab_type": "text"
      },
      "source": [
        "Loop"
      ]
    },
    {
      "cell_type": "code",
      "metadata": {
        "id": "L-gH5bupNV80",
        "colab_type": "code",
        "colab": {}
      },
      "source": [
        "primes = [2, 3, 5, 7]\n",
        "for prime in primes:\n",
        "    print(prime)"
      ],
      "execution_count": 0,
      "outputs": []
    },
    {
      "cell_type": "code",
      "metadata": {
        "id": "fjwQzykGNWxg",
        "colab_type": "code",
        "colab": {}
      },
      "source": [
        "for x in range(5):\n",
        "    print(x)\n",
        "\n",
        "# Prints out 3,4,5\n",
        "for x in range(3, 6):\n",
        "    print(x)"
      ],
      "execution_count": 0,
      "outputs": []
    },
    {
      "cell_type": "code",
      "metadata": {
        "id": "6sLAlSe1NfHP",
        "colab_type": "code",
        "colab": {}
      },
      "source": [
        "count = 0\n",
        "while count < 5:\n",
        "    print(count)\n",
        "    count += 1"
      ],
      "execution_count": 0,
      "outputs": []
    },
    {
      "cell_type": "markdown",
      "metadata": {
        "id": "AOehcamcN032",
        "colab_type": "text"
      },
      "source": [
        "Condition"
      ]
    },
    {
      "cell_type": "code",
      "metadata": {
        "id": "dF94J6L6N2ic",
        "colab_type": "code",
        "colab": {}
      },
      "source": [
        "name = \"John\"\n",
        "age = 23\n",
        "if name == \"John\" and age == 23:\n",
        "    print(\"Your name is John, and you are also 23 years old.\")\n",
        "\n",
        "if name == \"John\" or name == \"Rick\":\n",
        "    print(\"Your name is either John or Rick.\")"
      ],
      "execution_count": 0,
      "outputs": []
    },
    {
      "cell_type": "code",
      "metadata": {
        "id": "R5wCSRpdOLVP",
        "colab_type": "code",
        "colab": {}
      },
      "source": [
        "name = \"John\"\n",
        "if name in [\"John\", \"Rick\"]:\n",
        "    print(\"Your name is either John or Rick.\")"
      ],
      "execution_count": 0,
      "outputs": []
    },
    {
      "cell_type": "code",
      "metadata": {
        "id": "Yfz6fkXMOLez",
        "colab_type": "code",
        "colab": {}
      },
      "source": [
        "x = 2\n",
        "if x == 2:\n",
        "    print(\"x equals two!\")\n",
        "else:\n",
        "    print(\"x does not equal to two.\")"
      ],
      "execution_count": 0,
      "outputs": []
    },
    {
      "cell_type": "markdown",
      "metadata": {
        "id": "TElNAW8uPtOJ",
        "colab_type": "text"
      },
      "source": [
        "Exercise 2 (Answer)"
      ]
    },
    {
      "cell_type": "code",
      "metadata": {
        "id": "X4vBVNtOORIe",
        "colab_type": "code",
        "colab": {}
      },
      "source": [
        "\"\"\"\n",
        "Ubah variable sehingga output print:\n",
        "1\n",
        "2\n",
        "3\n",
        "4\n",
        "5\n",
        "6\n",
        "\"\"\"\n",
        "\n",
        "# ubah variable ini\n",
        "number = 10\n",
        "second_number = 10\n",
        "first_array = []\n",
        "second_array = [1,2,3,4]\n",
        "\n",
        "if number < 15 and number % 6 == 0:\n",
        "    print(\"1\")\n",
        "\n",
        "if first_array:\n",
        "    print(\"2\")\n",
        "\n",
        "if len(second_array) == 2:\n",
        "    print(\"3\")\n",
        "\n",
        "if len(first_array) + len(second_array) == 5:\n",
        "    print(\"4\")\n",
        "\n",
        "if first_array and first_array[0] == 1:\n",
        "    print(\"5\")\n",
        "\n",
        "if not second_number and number**2 > 200:\n",
        "    print(\"6\")\n",
        "    "
      ],
      "execution_count": 0,
      "outputs": []
    },
    {
      "cell_type": "markdown",
      "metadata": {
        "id": "2-l3AAP6QOWZ",
        "colab_type": "text"
      },
      "source": [
        "Exercise 3 (Answer)"
      ]
    },
    {
      "cell_type": "code",
      "metadata": {
        "id": "62-dukhMQQWP",
        "colab_type": "code",
        "colab": {}
      },
      "source": [
        "\"\"\"\n",
        "Dari 2 array, buat array yang berisi nama yang muncul di salah satu atau kedua array-nya. Hasil array tidak boleh memiliki duplikat.\n",
        "Hint: gunakan loop dan condition.\n",
        "\"\"\"\n",
        "\n",
        "names1 = [\"Ava\", \"Emma\", \"Olivia\"]\n",
        "names2 = [\"Olivia\", \"Sophia\", \"Emma\"]\n",
        "names_result = []\n"
      ],
      "execution_count": 0,
      "outputs": []
    },
    {
      "cell_type": "markdown",
      "metadata": {
        "id": "NjwTKjRWfc-n",
        "colab_type": "text"
      },
      "source": [
        "Method"
      ]
    },
    {
      "cell_type": "code",
      "metadata": {
        "id": "EO6YetofhWqY",
        "colab_type": "code",
        "colab": {}
      },
      "source": [
        "def checkNone(value1 = None, value2 = None):\n",
        "  if value1:\n",
        "    if value2:\n",
        "      print(\"There's 2 value: ({},{})\".format(value1,value2))\n",
        "    else:\n",
        "      print(\"There's 1 value: ({})\".format(value1))\n",
        "  elif value2:\n",
        "    print(\"There's 1 value: ({})\".format(value2))\n",
        "  else:\n",
        "    print(\"There's no value\")\n",
        "\n",
        "\n",
        "checkNone(value1 = 2, value2 = 3)"
      ],
      "execution_count": 0,
      "outputs": []
    },
    {
      "cell_type": "code",
      "metadata": {
        "id": "JnvxJ6nTkHhf",
        "colab_type": "code",
        "colab": {}
      },
      "source": [
        "number1 = [1,None,3]\n",
        "number2 = [None,None,3]\n",
        "\n",
        "for x,y in zip(number1,number2):\n",
        "  checkNone(value1 = x, value2 = y)"
      ],
      "execution_count": 0,
      "outputs": []
    }
  ]
}